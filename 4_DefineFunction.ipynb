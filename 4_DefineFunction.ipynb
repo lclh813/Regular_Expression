{
 "cells": [
  {
   "cell_type": "markdown",
   "metadata": {},
   "source": [
    "## 4. Define Function"
   ]
  },
  {
   "cell_type": "markdown",
   "metadata": {},
   "source": [
    "### 4.1. Extract Substrings by Regular Expression\n",
    "Extract numbers ***before*** units of measure or ***after*** multiplication signs."
   ]
  },
  {
   "cell_type": "code",
   "execution_count": null,
   "metadata": {},
   "outputs": [],
   "source": [
    "def split_it(s):\n",
    "    l = []\n",
    "    re_list = re.findall(r'([0-9]+|[一|二|兩|三|四|五|六|七|八|九|十]+)[盒|組|顆|粒|個|串]|[X|x|*]([0-9]+|[一|二|兩|三|四|五|六|七|八|九|十]+)',s)\n",
    "    for tup in re_list:\n",
    "        for i in tup:\n",
    "            if i != '':\n",
    "                l.append(i)\n",
    "    return l"
   ]
  },
  {
   "cell_type": "markdown",
   "metadata": {},
   "source": [
    "### 4.2. Convert Strings to Numeric Values"
   ]
  },
  {
   "cell_type": "markdown",
   "metadata": {},
   "source": [
    "### 4.2.1. Define Function for Conversion\n",
    "Reference https://blog.csdn.net/zhengdan66/article/details/78148695"
   ]
  },
  {
   "cell_type": "code",
   "execution_count": 1,
   "metadata": {},
   "outputs": [],
   "source": [
    "# Create a dictionary help convert Chinese numerals to Arabic.\n",
    "common_used_numerals = {'零': 0, '一': 1, '二': 2, '兩': 2, '三': 3, '四': 4, '五': 5, \n",
    "                        '六': 6, '七': 7, '八': 8, '九': 9,'十': 10, '百': 100}\n",
    "\n",
    "def string_to_digits(s):\n",
    "    # If \"s\" is a string consisted of Arabic numerals only, return an integer object \n",
    "    # from the given string.\n",
    "    if s.isdigit():\n",
    "        return int(s)\n",
    "    # If \"s\" is a string consisted of Chinese numerals, proceed the following steps:\n",
    "    # Suppose \"s\" = \"三百五十二\" which is equivalent to \"352\" in Arabic numerals \n",
    "    # to facilitate the explanation.\n",
    "    else:\n",
    "        # Set the initial value of \"total\" as 0 which will be returned with the conversion result.\n",
    "        total = 0\n",
    "        # Set the initial value of \"r\" as 1 which indicates that the conversion will be \n",
    "        # starting with \"ones place.\"         \n",
    "        r = 1\n",
    "\n",
    "        # i = 4 3 2 1 0\n",
    "        # 1st Loop：i=4, r=1, val=2, \"ones place\"\n",
    "        # 2nd Loop：i=3, r=1, val=10, \"ones place to tens place\"\n",
    "        # 3rd Loop：i=2, r=10, val=5, \"tens place\"\n",
    "        # 4th Loop：i=1, r=10, val=100, \"tens place to hundreds place\"\n",
    "        # 5th Loop：i=0, r=100, val=3, \"hundreds place\"\n",
    "        for i in range(len(s) - 1, -1, -1):\n",
    "            val = common_used_numerals.get(s[i])\n",
    "            # If \"s\" is \"ten something\" then proceed the following steps which is not the case.\n",
    "            # for this scenario.\n",
    "            if val >= 10 and i == 0: \n",
    "                if val > r:\n",
    "                    r = val\n",
    "                    total = total + val\n",
    "                else:\n",
    "                    r = r * val\n",
    "            # 2nd Loop：10>=10\n",
    "            # 4th Loop：100>=10\n",
    "            elif val >= 10:\n",
    "                # 2nd Loop：10>1 hence r=10 which suggests that the conversion is \n",
    "                # proceeding to \"tens place.\"\n",
    "                # 4th Loop：100>10 hence r=100 which suggests that the conversion is \n",
    "                # proceeding to \"hundreds place.\"\n",
    "                if val > r:\n",
    "                    r = val\n",
    "                else:\n",
    "                    r = r * val\n",
    "            # 1st Loop：2 = 0+1*2 \n",
    "            # 3rd Loop：52 = 2+10*5\n",
    "            # 5th Loop：352 = 52+100*3\n",
    "            else:\n",
    "                total = total + r * val\n",
    "        return total"
   ]
  },
  {
   "cell_type": "markdown",
   "metadata": {},
   "source": [
    "### 4.2.2. Apply Defined Function to Every Element in the List"
   ]
  },
  {
   "cell_type": "code",
   "execution_count": null,
   "metadata": {},
   "outputs": [],
   "source": [
    "def to_num(l):    \n",
    "    if l != []:\n",
    "        return list(map(string_to_digits, l))\n",
    "    else:\n",
    "        return [1]"
   ]
  },
  {
   "cell_type": "markdown",
   "metadata": {},
   "source": [
    "### 4.3. Multiply All Elements in the List "
   ]
  },
  {
   "cell_type": "code",
   "execution_count": null,
   "metadata": {},
   "outputs": [],
   "source": [
    "def multiply_list(l):\n",
    "    # If there is no unit of measure to be found, then return 1, \n",
    "    # which suggests that Qty_Piece remain the same as Qty_Box.\n",
    "    if l == []:\n",
    "        return 1\n",
    "    return reduce(lambda x, y: x*y, l)"
   ]
  }
 ],
 "metadata": {
  "kernelspec": {
   "display_name": "Python 3",
   "language": "python",
   "name": "python3"
  },
  "language_info": {
   "codemirror_mode": {
    "name": "ipython",
    "version": 3
   },
   "file_extension": ".py",
   "mimetype": "text/x-python",
   "name": "python",
   "nbconvert_exporter": "python",
   "pygments_lexer": "ipython3",
   "version": "3.6.5"
  }
 },
 "nbformat": 4,
 "nbformat_minor": 2
}

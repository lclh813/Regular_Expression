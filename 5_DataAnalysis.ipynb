{
 "cells": [
  {
   "cell_type": "markdown",
   "metadata": {},
   "source": [
    "### 5. Data Analysis"
   ]
  },
  {
   "cell_type": "code",
   "execution_count": null,
   "metadata": {},
   "outputs": [],
   "source": [
    "# Suppose the goal is to specify how many \"apples\" were purchased during a given period.\n",
    "df_select = df[df['Fruit_Name_ID'].str.contains('APPL')]"
   ]
  },
  {
   "cell_type": "code",
   "execution_count": null,
   "metadata": {},
   "outputs": [],
   "source": [
    "# Suppose that there is a misclassification of \"products of Apple Inc.\" into \"apple as fruit\" \n",
    "# and therefore should be removed from the selected dataframe. \n",
    "df_select = df_select[~df_select['Fruit_Name'].str.contains(r'^((?!iP).)*$')]"
   ]
  },
  {
   "cell_type": "code",
   "execution_count": null,
   "metadata": {},
   "outputs": [],
   "source": [
    "# 1. Get the row count of the dataframe.\n",
    "print(df_select.shape)\n",
    "# 2. Make a copy of the dataframe.\n",
    "res = df_select.copy()\n",
    "# 3.1. Convert Qty_Box to smaller units by extracting substrings via regular expression.\n",
    "res['Unit_Char'] = res['Fruit_Name'].apply(split_it)\n",
    "# 3.2. Apply function that is to \"convert strings to numeric values\" to every element \n",
    "# in the list of extracted substrings.\n",
    "res['Unit_Num'] = res['Unit_Char'].apply(to_num)\n",
    "# 4. Multiply all elements in the list.\n",
    "res['Unit_Total'] = res['Unit_Num'].apply(multiply_list)\n",
    "# 5. Calculate purchasing volume by smallest unit of measurement.\n",
    "res['Qty_Piece'] = res['Qty_Box'] * res['Unit_Total']\n",
    "# 6. Sum up purchasing volume.\n",
    "sum(list(res['Qty_Piece']))"
   ]
  }
 ],
 "metadata": {
  "kernelspec": {
   "display_name": "Python 3",
   "language": "python",
   "name": "python3"
  },
  "language_info": {
   "codemirror_mode": {
    "name": "ipython",
    "version": 3
   },
   "file_extension": ".py",
   "mimetype": "text/x-python",
   "name": "python",
   "nbconvert_exporter": "python",
   "pygments_lexer": "ipython3",
   "version": "3.6.5"
  }
 },
 "nbformat": 4,
 "nbformat_minor": 2
}

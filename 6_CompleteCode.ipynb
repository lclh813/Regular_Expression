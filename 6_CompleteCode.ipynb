{
 "cells": [
  {
   "cell_type": "markdown",
   "metadata": {},
   "source": [
    "## 1. Import Library"
   ]
  },
  {
   "cell_type": "markdown",
   "metadata": {},
   "source": [
    "### 1.1. Import Standard Library"
   ]
  },
  {
   "cell_type": "code",
   "execution_count": null,
   "metadata": {},
   "outputs": [],
   "source": [
    "import csv\n",
    "import glob\n",
    "import codecs\n",
    "import pandas as pd\n",
    "import numpy as np"
   ]
  },
  {
   "cell_type": "markdown",
   "metadata": {},
   "source": [
    "### 1.2. Import Library for Regular Expression"
   ]
  },
  {
   "cell_type": "code",
   "execution_count": null,
   "metadata": {},
   "outputs": [],
   "source": [
    "import re"
   ]
  },
  {
   "cell_type": "markdown",
   "metadata": {},
   "source": [
    "### 1.3. Import for Multiplication"
   ]
  },
  {
   "cell_type": "code",
   "execution_count": null,
   "metadata": {},
   "outputs": [],
   "source": [
    "from functools import reduce"
   ]
  },
  {
   "cell_type": "markdown",
   "metadata": {},
   "source": [
    "## 2. Import Data"
   ]
  },
  {
   "cell_type": "code",
   "execution_count": null,
   "metadata": {},
   "outputs": [],
   "source": [
    "files = glob.glob('G:\\\\Data\\\\*.xls')\n",
    "\n",
    "df = pd.DataFrame() \n",
    "for file in files:\n",
    "    temp = pd.read_excel(file, encoding = 'utf-8')\n",
    "    df = df.append(temp)"
   ]
  },
  {
   "cell_type": "markdown",
   "metadata": {},
   "source": [
    "## 3. Clean Dataset"
   ]
  },
  {
   "cell_type": "markdown",
   "metadata": {},
   "source": [
    "### 3.1. Select Columns"
   ]
  },
  {
   "cell_type": "code",
   "execution_count": null,
   "metadata": {},
   "outputs": [],
   "source": [
    "# Confirm column labels\n",
    "df.columns"
   ]
  },
  {
   "cell_type": "code",
   "execution_count": null,
   "metadata": {},
   "outputs": [],
   "source": [
    "# Select columns that are necessary for further analysis\n",
    "col_df = ['Fruit_Name_ID','Fruit_Name','Qty_Box']\n",
    "df = df[col_df]"
   ]
  },
  {
   "cell_type": "markdown",
   "metadata": {},
   "source": [
    "### 3.2.Remove Spaces"
   ]
  },
  {
   "cell_type": "code",
   "execution_count": null,
   "metadata": {},
   "outputs": [],
   "source": [
    "# Remove all white spaces in the strings\n",
    "df['Fruit_Name'] = df['Fruit_Name'].str.replace(' ', '')"
   ]
  },
  {
   "cell_type": "markdown",
   "metadata": {},
   "source": [
    "### 3.3. Dataset Overview"
   ]
  },
  {
   "cell_type": "code",
   "execution_count": null,
   "metadata": {},
   "outputs": [],
   "source": [
    "# Summarize descriptive statistics of the dataset\n",
    "df.describe(include = ['O'])"
   ]
  },
  {
   "cell_type": "code",
   "execution_count": null,
   "metadata": {},
   "outputs": [],
   "source": [
    "# Confirm data type of each column\n",
    "df.dtypes"
   ]
  },
  {
   "cell_type": "markdown",
   "metadata": {},
   "source": [
    "## 4. Define Function"
   ]
  },
  {
   "cell_type": "markdown",
   "metadata": {},
   "source": [
    "### 4.1. Extract Substrings by Regular Expression\n",
    "Extract numbers ***before*** units of measure or ***after*** multiplication signs."
   ]
  },
  {
   "cell_type": "code",
   "execution_count": null,
   "metadata": {},
   "outputs": [],
   "source": [
    "def split_it(s):\n",
    "    l = []\n",
    "    re_list = re.findall(r'([0-9]+|[一|二|兩|三|四|五|六|七|八|九|十]+)[盒|組|顆|粒|個|串]|[X|x|*]([0-9]+|[一|二|兩|三|四|五|六|七|八|九|十]+)',s)\n",
    "    for tup in re_list:\n",
    "        for i in tup:\n",
    "            if i != '':\n",
    "                l.append(i)\n",
    "    return l"
   ]
  },
  {
   "cell_type": "markdown",
   "metadata": {},
   "source": [
    "### 4.2. Convert Strings to Numeric Values"
   ]
  },
  {
   "cell_type": "markdown",
   "metadata": {},
   "source": [
    "### 4.2.1. Define Function for Conversion\n",
    "Reference https://blog.csdn.net/zhengdan66/article/details/78148695"
   ]
  },
  {
   "cell_type": "code",
   "execution_count": null,
   "metadata": {},
   "outputs": [],
   "source": [
    "# Create a dictionary help convert Chinese numerals to Arabic.\n",
    "common_used_numerals = {'零': 0, '一': 1, '二': 2, '兩': 2, '三': 3, '四': 4, '五': 5, '六': 6, '七': 7, '八': 8, '九': 9, \n",
    "                        '十': 10, '百': 100}\n",
    "\n",
    "def string_to_digits(s):\n",
    "    # If \"s\" is a string consisted of Arabic numerals only, return an integer object from the given string.\n",
    "    if s.isdigit():\n",
    "        return int(s)\n",
    "    # If \"s\" is a string consisted of Chinese numerals, proceed the following steps:\n",
    "    # Suppose \"s\" = \"三百五十二\" which is equivalent to \"352\" in Arabic numerals to facilitate the explanation.\n",
    "    else:\n",
    "        # Set the initial value of \"total\" as 0 which will be returned with the conversion result.\n",
    "        total = 0\n",
    "        # Set the initial value of \"r\" as 1 which indicates that the conversion will be starting with \"ones place.\"         \n",
    "        r = 1\n",
    "\n",
    "        # i = 4 3 2 1 0\n",
    "        # 1st Loop：i=4, r=1, val=2, \"ones place\"\n",
    "        # 2nd Loop：i=3, r=1, val=10, \"ones place to tens place\"\n",
    "        # 3rd Loop：i=2, r=10, val=5, \"tens place\"\n",
    "        # 4th Loop：i=1, r=10, val=100, \"tens place to hundreds place\"\n",
    "        # 5th Loop：i=0, r=100, val=3, \"hundreds place\"\n",
    "        for i in range(len(s) - 1, -1, -1):\n",
    "            val = common_used_numerals.get(s[i])\n",
    "            # If \"s\" is \"ten something\" then proceed the following steps which is not the case for this scenario.\n",
    "            if val >= 10 and i == 0: \n",
    "                if val > r:\n",
    "                    r = val\n",
    "                    total = total + val\n",
    "                else:\n",
    "                    r = r * val\n",
    "            # 2nd Loop：10>=10\n",
    "            # 4th Loop：100>=10\n",
    "            elif val >= 10:\n",
    "                # 2nd Loop：10>1 hence r=10 which suggests that the conversion is proceeding to \"tens place\"\n",
    "                # 4th Loop：100>10 hence r=100 which suggests that the conversion is proceeding to \"hundreds place\"\n",
    "                if val > r:\n",
    "                    r = val\n",
    "                else:\n",
    "                    r = r * val\n",
    "            # 1st Loop：2 = 0+1*2 \n",
    "            # 3rd Loop：52 = 2+10*5\n",
    "            # 5th Loop：352 = 52+100*3\n",
    "            else:\n",
    "                total = total + r * val\n",
    "        return total"
   ]
  },
  {
   "cell_type": "markdown",
   "metadata": {},
   "source": [
    "### 4.2.2. Apply Defined Function to Every Element in the List"
   ]
  },
  {
   "cell_type": "code",
   "execution_count": null,
   "metadata": {},
   "outputs": [],
   "source": [
    "def to_num(l):    \n",
    "    if l != []:\n",
    "        return list(map(string_to_digits, l))\n",
    "    else:\n",
    "        return [1]"
   ]
  },
  {
   "cell_type": "markdown",
   "metadata": {},
   "source": [
    "### 4.3. Multiply All Elements in the List"
   ]
  },
  {
   "cell_type": "code",
   "execution_count": null,
   "metadata": {},
   "outputs": [],
   "source": [
    "def multiply_list(l):\n",
    "    # If there is no unit of measure to be found, then return 1, \n",
    "    # which suggests that Qty_Piece remain the same as Qty_Box.\n",
    "    if l == []:\n",
    "        return 1\n",
    "    return reduce(lambda x, y: x*y, l)"
   ]
  },
  {
   "cell_type": "markdown",
   "metadata": {},
   "source": [
    "## 5. Data Analysis"
   ]
  },
  {
   "cell_type": "code",
   "execution_count": null,
   "metadata": {},
   "outputs": [],
   "source": [
    "# Suppose the goal is to dspecify how many \"apples\" were purchased during a given period.\n",
    "df_select = df[df['Fruit_Name_ID'].str.contains('APPL')]"
   ]
  },
  {
   "cell_type": "code",
   "execution_count": null,
   "metadata": {},
   "outputs": [],
   "source": [
    "# Suppose that there is a misclassification of \"products of Apple Inc.\" into \"apple as fruit\" \n",
    "# and therefore should be removed from the selected dataframe. \n",
    "df_select = df_select[df_select['Fruit_Name'].str.contains(r'^((?!iP).)*$')]"
   ]
  },
  {
   "cell_type": "code",
   "execution_count": null,
   "metadata": {},
   "outputs": [],
   "source": [
    "# 1. Get the row count of the dataframe.\n",
    "print(df_select.shape)\n",
    "# 2. Make a copy of the dataframe.\n",
    "res = df_select.copy()\n",
    "# 3.1. Convert Qty_Box to smaller units by extracting substrings via regular expression.\n",
    "res['Unit_Char'] = res['Fruit_Name'].apply(split_it)\n",
    "# 3.2. Apply function that is to \"convert strings to numeric values\" to every element in the list of extracted substrings.\n",
    "res['Unit_Num'] = res['Unit_Char'].apply(to_num)\n",
    "# 4. Multiply all elements in the list.\n",
    "res['Unit_Total'] = res['Unit_Num'].apply(multiply_list)\n",
    "# 5. Calculate purchasing volume by smallest unit of measurement.\n",
    "res['Qty_Piece'] = res['Qty_Box'] * res['Unit_Total']\n",
    "# 6. Sum up purchasing volume.\n",
    "sum(list(res['Qty_Piece']))"
   ]
  }
 ],
 "metadata": {
  "kernelspec": {
   "display_name": "Python 3",
   "language": "python",
   "name": "python3"
  },
  "language_info": {
   "codemirror_mode": {
    "name": "ipython",
    "version": 3
   },
   "file_extension": ".py",
   "mimetype": "text/x-python",
   "name": "python",
   "nbconvert_exporter": "python",
   "pygments_lexer": "ipython3",
   "version": "3.6.5"
  }
 },
 "nbformat": 4,
 "nbformat_minor": 2
}
